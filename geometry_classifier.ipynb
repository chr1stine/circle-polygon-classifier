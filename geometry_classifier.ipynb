{
  "nbformat": 4,
  "nbformat_minor": 0,
  "metadata": {
    "colab": {
      "name": "geometry-classifier.ipynb",
      "provenance": [],
      "collapsed_sections": [
        "-JGc3zyV1zMz",
        "FwqVWKQW11PR",
        "g9uN9ubiw363",
        "gQTWmbX8xHXC",
        "3-n5qp9GyWX6",
        "MFw8pYgxxV_H",
        "zJ8V9CRcxe1b",
        "8GuoE0jDxoWr",
        "nr_j1FXCyk9i",
        "4vK8bf3C0FfU",
        "puE8hw5M0JNL"
      ],
      "authorship_tag": "ABX9TyPnxQ7zu1n3zrg9Nyredycs",
      "include_colab_link": true
    },
    "kernelspec": {
      "name": "python3",
      "display_name": "Python 3"
    },
    "language_info": {
      "name": "python"
    }
  },
  "cells": [
    {
      "cell_type": "markdown",
      "metadata": {
        "id": "view-in-github",
        "colab_type": "text"
      },
      "source": [
        "<a href=\"https://colab.research.google.com/github/chr1stine/circle-polygon-classifier/blob/master/geometry_classifier.ipynb\" target=\"_parent\"><img src=\"https://colab.research.google.com/assets/colab-badge.svg\" alt=\"Open In Colab\"/></a>"
      ]
    },
    {
      "cell_type": "markdown",
      "metadata": {
        "id": "LwlP5ErTyJcQ"
      },
      "source": [
        "# Генерирование данных"
      ]
    },
    {
      "cell_type": "code",
      "metadata": {
        "colab": {
          "base_uri": "https://localhost:8080/"
        },
        "id": "Y1LuE7E9vX2E",
        "outputId": "6ef4748b-d434-4b9c-eb2c-1ac7cfc5153d"
      },
      "source": [
        "import matplotlib\n",
        "import numpy\n",
        "import cv2\n",
        "import pickle\n",
        "import pandas\n",
        "import torch\n",
        "import torchvision\n",
        "import PIL\n",
        "\n",
        "print('matplotlib '+matplotlib.__version__)\n",
        "print('numpy '+numpy.__version__)\n",
        "print('cv2 '+cv2.__version__)\n",
        "print('pandas '+pandas.__version__)\n",
        "print('torch '+torch.__version__)\n",
        "print('torchvision '+torchvision.__version__)\n",
        "print('PIL '+PIL.__version__)"
      ],
      "execution_count": 1,
      "outputs": [
        {
          "output_type": "stream",
          "text": [
            "matplotlib 3.2.2\n",
            "numpy 1.19.5\n",
            "cv2 4.1.2\n",
            "pandas 1.1.5\n",
            "torch 1.8.1+cu101\n",
            "torchvision 0.9.1+cu101\n",
            "PIL 7.1.2\n"
          ],
          "name": "stdout"
        }
      ]
    },
    {
      "cell_type": "markdown",
      "metadata": {
        "id": "AO8_YC4ZxBQ6"
      },
      "source": [
        "## Генерация картинок для датасета"
      ]
    },
    {
      "cell_type": "code",
      "metadata": {
        "id": "Vb6pZyuBve_g"
      },
      "source": [
        "n = 4000 # кол-во картинок для каждого класса\n",
        "img_size = 128 # размер каждой картинки"
      ],
      "execution_count": 2,
      "outputs": []
    },
    {
      "cell_type": "markdown",
      "metadata": {
        "id": "-JGc3zyV1zMz"
      },
      "source": [
        "### Круги"
      ]
    },
    {
      "cell_type": "code",
      "metadata": {
        "id": "qZSVeMwWvhV_"
      },
      "source": [
        "import matplotlib.pyplot as plt\n",
        "from numpy import random\n",
        "import os\n",
        "\n",
        "# создать папку если такой нет\n",
        "directory = './figures/circles'\n",
        "if not os.path.exists(directory):\n",
        "    os.makedirs(directory)\n",
        "\n",
        "#параметры - координаты, радиус\n",
        "def gen_circle(i):\n",
        "    fig = plt.figure(figsize=(5, 5), dpi=100)\n",
        "\n",
        "    plt.xlim(0,5)\n",
        "    plt.ylim(0,5)\n",
        "\n",
        "    c = (random.rand()*4+1,random.rand()*4+1)\n",
        "    r = random.rand()*min(c[0],c[1],5-c[0],5-c[1])+random.rand()\n",
        "    circle = plt.Circle(c, radius=r)\n",
        "    fig.gca().add_patch(circle)\n",
        "    fig.gca().set_axis_off()\n",
        "    plt.savefig('./figures/circles/circle'+str(i)+'.png',bbox_inches='tight',pad_inches=0)\n",
        "    plt.close()\n",
        "    \n",
        "for i in range(n):\n",
        "    gen_circle(i)"
      ],
      "execution_count": 4,
      "outputs": []
    },
    {
      "cell_type": "markdown",
      "metadata": {
        "id": "FwqVWKQW11PR"
      },
      "source": [
        "### Квадраты"
      ]
    },
    {
      "cell_type": "code",
      "metadata": {
        "id": "ELqf4zaRwMuD"
      },
      "source": [
        "import matplotlib.pyplot as plt\n",
        "from numpy import random\n",
        "import os\n",
        "\n",
        "# создать папку если такой нет\n",
        "directory = './figures/polygons'\n",
        "if not os.path.exists(directory):\n",
        "    os.makedirs(directory)\n",
        "\n",
        "def gen_square(i):\n",
        "    fig = plt.figure(figsize=(5, 5), dpi=100)\n",
        "    \n",
        "    x0 = random.rand()*4\n",
        "    y0 = random.rand()*4\n",
        "    a = random.rand()*3\n",
        "    \n",
        "    plt.xlim(0,5)\n",
        "    plt.ylim(0,5)\n",
        "    \n",
        "    points = []\n",
        "    \n",
        "    x = x0-a/2.\n",
        "    y = y0-a/2\n",
        "    points.append((x,y))\n",
        "    \n",
        "    x = x0-a/2.\n",
        "    y = y0+a/2.\n",
        "    points.append((x,y))\n",
        "    \n",
        "    x = x0+a/2.\n",
        "    y = y0+a/2.\n",
        "    points.append((x,y))\n",
        "    \n",
        "    x = x0+a/2.\n",
        "    y = y0-a/2.\n",
        "    points.append((x,y))\n",
        "    \n",
        "    tetragon = plt.Polygon(points)\n",
        "    fig.gca().add_patch(tetragon)    \n",
        "    fig.gca().set_axis_off()\n",
        "    plt.savefig('figures/polygons/polygon'+str(i)+'.png',bbox_inches='tight',pad_inches=0)\n",
        "    plt.close()\n",
        "    \n",
        "    \n",
        "for i in range(n):\n",
        "    gen_square(i)"
      ],
      "execution_count": 5,
      "outputs": []
    },
    {
      "cell_type": "markdown",
      "metadata": {
        "id": "g9uN9ubiw363"
      },
      "source": [
        "## Создание датасета"
      ]
    },
    {
      "cell_type": "code",
      "metadata": {
        "id": "crxrge-1wy4w"
      },
      "source": [
        "import os\n",
        "import cv2\n",
        "import numpy as np\n",
        "import pickle\n",
        "\n",
        "\n",
        "file_list = []\n",
        "class_list = []\n",
        "\n",
        "folder = \"figures\"\n",
        "\n",
        "categories = [\"circles\", \"polygons\"]\n",
        "\n",
        "# Checking or all images in the data folder\n",
        "for category in categories :\n",
        "    path = os.path.join(folder, category)\n",
        "    for img in os.listdir(path):\n",
        "        img_array = cv2.imread(os.path.join(path, img), cv2.IMREAD_GRAYSCALE)\n",
        "\n",
        "# массив пар (картинка, класс)\n",
        "training_data = []\n",
        "\n",
        "def create_training_data():\n",
        "    for category in categories :\n",
        "        path = os.path.join(folder, category)\n",
        "        class_num = categories.index(category)\n",
        "        for img in os.listdir(path):\n",
        "            try :\n",
        "                img_array = cv2.imread(os.path.join(path, img), cv2.IMREAD_GRAYSCALE)\n",
        "                new_array = cv2.resize(img_array, (img_size, img_size))\n",
        "                training_data.append([new_array, class_num])\n",
        "            except Exception as e:\n",
        "                pass\n",
        "\n",
        "create_training_data()\n",
        "\n",
        "# свойства\n",
        "X = []\n",
        "\n",
        "# ярлыки\n",
        "y = []\n",
        "\n",
        "# в features \"попадают\" сами картинки, в label - классы\n",
        "for features, label in training_data:\n",
        "    X.append(features)\n",
        "    y.append(label)\n",
        "\n",
        "# из списка матриц пикселей картинки получаем матрицу списков пикселей картинок\n",
        "X = np.array(X).reshape(-1, img_size, img_size, 1)\n",
        "\n",
        "# сериализуем датасет в файл\n",
        "pickle_out = open(\"features.pickle\", \"wb\")\n",
        "pickle.dump(X, pickle_out)\n",
        "pickle_out.close()\n",
        "\n",
        "pickle_out = open(\"labels.pickle\", \"wb\")\n",
        "pickle.dump(y, pickle_out)\n",
        "pickle_out.close()"
      ],
      "execution_count": 8,
      "outputs": []
    },
    {
      "cell_type": "markdown",
      "metadata": {
        "id": "gQTWmbX8xHXC"
      },
      "source": [
        "## Создание класса для датасета"
      ]
    },
    {
      "cell_type": "code",
      "metadata": {
        "id": "AAV71nNexPHy"
      },
      "source": [
        "import torch\n",
        "from torch.utils.data import Dataset\n",
        "from torchvision import transforms\n",
        "from PIL import Image\n",
        "import pickle\n",
        "\n",
        "class figures_dataset(Dataset):\n",
        "    def __init__(self):\n",
        "        features_fname = 'features.pickle'\n",
        "        labels_fname = 'labels.pickle'\n",
        "            \n",
        "        # десериализация картинок\n",
        "        f_pickle_in = open(features_fname,'rb')\n",
        "        self.images = pickle.load(f_pickle_in,encoding='bytes')\n",
        "        \n",
        "        # десериализация меток\n",
        "        l_pickle_in = open(labels_fname,'rb')\n",
        "        self.labels = pickle.load(l_pickle_in,encoding='bytes')\n",
        "        \n",
        "        # аугментация и зашумление картинок\n",
        "        self.transform = transforms.Compose([\n",
        "            transforms.ToPILImage(),\n",
        "            transforms.RandomHorizontalFlip(p=0.5),\n",
        "            transforms.RandomVerticalFlip(p=0.5),\n",
        "            transforms.GaussianBlur(11,11),\n",
        "            transforms.ToTensor()\n",
        "        ])\n",
        "        self.noise = torch.rand(len(self.images),img_size,img_size,1)\n",
        "        \n",
        "    \n",
        "    def __len__(self):\n",
        "        return len(self.images)\n",
        "    \n",
        "    def __getitem__(self, idx):\n",
        "        # проверка, что индекс \"массивоподобный\"\n",
        "        if torch.is_tensor(idx):\n",
        "            idx = idx.tolist()\n",
        "            \n",
        "        # возвращение словаря <картинка,метка>\n",
        "        image = self.images[idx]\n",
        "        label = self.labels[idx]\n",
        "            \n",
        "        image = image + np.array(self.noise[idx])\n",
        "        image = self.transform(image)\n",
        "        sample = image, label\n",
        "\n",
        "        \n",
        "        return sample\n",
        "\n",
        "figures = figures_dataset()"
      ],
      "execution_count": 9,
      "outputs": []
    },
    {
      "cell_type": "markdown",
      "metadata": {
        "id": "3-n5qp9GyWX6"
      },
      "source": [
        "# Обучение нейросети"
      ]
    },
    {
      "cell_type": "markdown",
      "metadata": {
        "id": "MFw8pYgxxV_H"
      },
      "source": [
        "## Вызов DataLoader и объявление нейросети"
      ]
    },
    {
      "cell_type": "code",
      "metadata": {
        "id": "gbI8s494xamO"
      },
      "source": [
        "from torch.utils.data import DataLoader\n",
        "from torch.utils.data.sampler import SubsetRandomSampler\n",
        "from random import shuffle\n",
        "\n",
        "# деление датасета на обучающую и проверяющую выборки\n",
        "validation_split = .2\n",
        "figures_size = len(figures)\n",
        "indices = list(range(figures_size))\n",
        "shuffle(indices)\n",
        "split = int(np.floor(validation_split * figures_size))\n",
        "train_indices, test_indices = indices[split:], indices[:split]\n",
        "\n",
        "# перемешивает индексы\n",
        "test = SubsetRandomSampler(test_indices)\n",
        "train = SubsetRandomSampler(train_indices)\n",
        "\n",
        "# размер батча\n",
        "b_size=32\n",
        "\n",
        "test_set = DataLoader(figures, batch_size=b_size, sampler=test)\n",
        "train_set = DataLoader(figures, batch_size=b_size, sampler=train)\n",
        "\n",
        "\n",
        "# нейросеть\n",
        "import torch.nn as nn\n",
        "import torch.nn.functional as F\n",
        "class Net(nn.Module):\n",
        "    def __init__(self):\n",
        "        super(Net, self).__init__()\n",
        "                \n",
        "        self.conv1 = nn.Conv2d(1, 3, 3)\n",
        "        self.conv2 = nn.Conv2d(3, 6, 3)\n",
        "        self.conv3 = nn.Conv2d(6,12,3)\n",
        "        self.pool = nn.MaxPool2d(2, 2)\n",
        "        self.dout = nn.Dropout(0.2)\n",
        "        self.fc1 = nn.Linear(12 * 14 * 14, 2)\n",
        "    \n",
        "    def forward(self, x):\n",
        "        x = self.dout(self.pool(self.conv1(x)))\n",
        "        x = self.dout(self.pool(self.conv2(x)))\n",
        "        x = self.dout(self.pool(self.conv3(x)))\n",
        "        x = torch.flatten(x,1)\n",
        "        x = self.fc1(x)\n",
        "        return x\n",
        "net = Net()\n",
        "\n",
        "# loss-функция\n",
        "import torch.optim as optim\n",
        "criterion = nn.CrossEntropyLoss()\n",
        "optimizer = optim.SGD(net.parameters(), lr=0.001, momentum=0.9)"
      ],
      "execution_count": 11,
      "outputs": []
    },
    {
      "cell_type": "markdown",
      "metadata": {
        "id": "zJ8V9CRcxe1b"
      },
      "source": [
        "## Запуск обучения и вывод графика loss"
      ]
    },
    {
      "cell_type": "code",
      "metadata": {
        "colab": {
          "base_uri": "https://localhost:8080/",
          "height": 587
        },
        "id": "TY3pChirxj8T",
        "outputId": "1967e091-a761-44b3-f6cd-455e4207ff32"
      },
      "source": [
        "epochs = 15\n",
        "loss_vals = []\n",
        "for epoch in range(epochs):\n",
        "\n",
        "    running_loss = 0.0 # для вывода по каждым freq мини-батчам\n",
        "    loss_val = 0.0 # для вывода общего loss по эпохе\n",
        "    for i, data in enumerate(train_set, 0):\n",
        "\n",
        "        inputs, labels = data\n",
        "\n",
        "        optimizer.zero_grad()\n",
        "\n",
        "        outputs = net(inputs)\n",
        "        loss = criterion(outputs,labels)\n",
        "        loss.backward()\n",
        "        optimizer.step()\n",
        "\n",
        "        # вывод loss\n",
        "        running_loss += loss.item()\n",
        "        loss_val = loss_val+running_loss\n",
        "        freq = 200  # каждые freq мини-батчей\n",
        "        if i % freq == freq-1:\n",
        "            print('[%d, %5d] loss: %.3f' %\n",
        "                  (epoch + 1, i + 1, running_loss / freq))\n",
        "            running_loss = 0.0\n",
        "    \n",
        "    loss_vals.append(loss_val/(b_size*len(train_set)))\n",
        "\n",
        "plt.plot(range(epochs),loss_vals)\n",
        "plt.legend(['loss'])\n",
        "print('Finished Training')"
      ],
      "execution_count": 12,
      "outputs": [
        {
          "output_type": "stream",
          "text": [
            "/usr/local/lib/python3.7/dist-packages/torchvision/transforms/functional.py:132: UserWarning: The given NumPy array is not writeable, and PyTorch does not support non-writeable tensors. This means you can write to the underlying (supposedly non-writeable) NumPy array using the tensor. You may want to copy the array to protect its data or make it writeable before converting it to a tensor. This type of warning will be suppressed for the rest of this program. (Triggered internally at  /pytorch/torch/csrc/utils/tensor_numpy.cpp:143.)\n",
            "  img = torch.from_numpy(np.array(pic, np.float32, copy=False))\n"
          ],
          "name": "stderr"
        },
        {
          "output_type": "stream",
          "text": [
            "[1,   200] loss: 0.694\n",
            "[2,   200] loss: 0.685\n",
            "[3,   200] loss: 0.673\n",
            "[4,   200] loss: 0.657\n",
            "[5,   200] loss: 0.632\n",
            "[6,   200] loss: 0.560\n",
            "[7,   200] loss: 0.484\n",
            "[8,   200] loss: 0.399\n",
            "[9,   200] loss: 0.352\n",
            "[10,   200] loss: 0.343\n",
            "[11,   200] loss: 0.327\n",
            "[12,   200] loss: 0.302\n",
            "[13,   200] loss: 0.289\n",
            "[14,   200] loss: 0.291\n",
            "[15,   200] loss: 0.265\n",
            "Finished Training\n"
          ],
          "name": "stdout"
        },
        {
          "output_type": "display_data",
          "data": {
            "image/png": "[encoded data removed]",
            "text/plain": [
              "<Figure size 432x288 with 1 Axes>"
            ]
          },
          "metadata": {
            "tags": [],
            "needs_background": "light"
          }
        }
      ]
    },
    {
      "cell_type": "markdown",
      "metadata": {
        "id": "8GuoE0jDxoWr"
      },
      "source": [
        "## Измерение качества"
      ]
    },
    {
      "cell_type": "code",
      "metadata": {
        "colab": {
          "base_uri": "https://localhost:8080/"
        },
        "id": "A41_mc8Bxsa7",
        "outputId": "d16661de-e6bd-4f0d-c482-84786671effb"
      },
      "source": [
        "correct = 0\n",
        "total = 0\n",
        "with torch.no_grad():\n",
        "    for data in test_set:\n",
        "        images, labels = data\n",
        "        outputs = net(images)\n",
        "        _, predicted = torch.max(outputs.data, 1)\n",
        "        total += labels.size(0)\n",
        "        correct += (predicted == labels).sum().item()\n",
        "\n",
        "print('Точность нейросети на тестовой выборке: %d %%' % (100 * correct / total))\n",
        "\n",
        "\n",
        "class_correct = list(0. for i in range(2))\n",
        "class_total = list(0. for i in range(2))\n",
        "with torch.no_grad():\n",
        "    for data in test_set:\n",
        "        images, labels = data\n",
        "        outputs = net(images)\n",
        "        _, predicted = torch.max(outputs, 1)\n",
        "        c = (predicted == labels).squeeze()\n",
        "        for i in range(b_size):\n",
        "            label = labels[i]\n",
        "            class_correct[label] += c[i].item()\n",
        "            class_total[label] += 1\n",
        "\n",
        "classes = ['кругов','квадратов']\n",
        "for i in range(2):\n",
        "    print('Точность %5s : %2d %%' % (classes[i], 100 * class_correct[i] / class_total[i]))"
      ],
      "execution_count": 13,
      "outputs": [
        {
          "output_type": "stream",
          "text": [
            "Точность нейросети на тестовой выборке: 81 %\n",
            "Точность кругов : 95 %\n",
            "Точность квадратов : 67 %\n"
          ],
          "name": "stdout"
        }
      ]
    },
    {
      "cell_type": "markdown",
      "metadata": {
        "id": "nr_j1FXCyk9i"
      },
      "source": [
        "# Тест на одной картинке"
      ]
    },
    {
      "cell_type": "markdown",
      "metadata": {
        "id": "4vK8bf3C0FfU"
      },
      "source": [
        "## На случайной из тестового датасета"
      ]
    },
    {
      "cell_type": "code",
      "metadata": {
        "id": "5pEvl5vMyp4C"
      },
      "source": [
        "# выбор случайного батча\n",
        "data = next(iter(test_set))\n",
        "\n",
        "# отсечение первой картинки из выбранного батча\n",
        "img, label = data[0][0],[0]\n",
        "img1 = img.squeeze(0)\n",
        "plt.imshow(img1)\n",
        "plt.show()\n",
        "\n",
        "# определение отклика\n",
        "image = data[0][:1]\n",
        "outputs = net(image)\n",
        "_, predicted = torch.max(outputs, 1)\n",
        "print('prediction: ',classes[predicted[0]])"
      ],
      "execution_count": null,
      "outputs": []
    },
    {
      "cell_type": "markdown",
      "metadata": {
        "id": "puE8hw5M0JNL"
      },
      "source": [
        "## На конкретном файле"
      ]
    },
    {
      "cell_type": "code",
      "metadata": {
        "id": "JdRUfPl-0OXJ"
      },
      "source": [
        "# указание файла с тестовой картинкой\n",
        "fname = './figures/polygons/polygon6.png'\n",
        "\n",
        "# считывание, перевод в массив\n",
        "img_array = cv2.imread(os.path.join('.', fname), cv2.IMREAD_GRAYSCALE)# чтение картинки в чб\n",
        "new_array = cv2.resize(img_array, (img_size, img_size))# масштабирование картинки под нейронку\n",
        "X = []\n",
        "for features in new_array:\n",
        "    X.append(features)\n",
        "X = np.array(X).reshape(1, 1, img_size, img_size)\n",
        "\n",
        "# получение отклика\n",
        "outputs = net(torch.Tensor(X[:1]))\n",
        "_, predicted = torch.max(outputs,1)\n",
        "classes = ['круг','квадрат']\n",
        "print(classes[predicted[0]])"
      ],
      "execution_count": null,
      "outputs": []
    }
  ]
}